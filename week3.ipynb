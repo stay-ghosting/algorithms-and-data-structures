{
 "cells": [
  {
   "attachments": {},
   "cell_type": "markdown",
   "metadata": {},
   "source": [
    "## done"
   ]
  },
  {
   "cell_type": "code",
   "execution_count": 17,
   "metadata": {},
   "outputs": [
    {
     "name": "stdout",
     "output_type": "stream",
     "text": [
      "120.0 Miles, £ 150.12\n",
      "140.0 Miles, £ 180.1\n",
      "70.0 Miles, £ 250.02\n",
      "99.0 Miles, £ 398.72\n",
      "144.0 Miles, £ 205.42\n",
      "\n",
      "70.0 Miles, £ 250.02\n",
      "99.0 Miles, £ 398.72\n",
      "120.0 Miles, £ 150.12\n",
      "140.0 Miles, £ 180.1\n",
      "144.0 Miles, £ 205.42\n",
      "\n",
      "70.0 Miles, £ 250.02\n",
      "99.0 Miles, £ 398.72\n",
      "120.0 Miles, £ 150.12\n",
      "140.0 Miles, £ 180.1\n",
      "144.0 Miles, £ 205.42\n",
      "\n",
      "120.0 Miles, £ 150.12\n",
      "140.0 Miles, £ 180.1\n",
      "144.0 Miles, £ 205.42\n",
      "70.0 Miles, £ 250.02\n",
      "99.0 Miles, £ 398.72\n",
      "\n",
      "quiting ...\n",
      "\n"
     ]
    }
   ],
   "source": [
    "def selectionSortPrice():\n",
    "    return _selectionSort(1)\n",
    "\n",
    "\n",
    "def selectionSortDistance():\n",
    "    return _selectionSort(0)\n",
    "\n",
    "def getRows():\n",
    "    rows = []\n",
    "    \n",
    "    with open('week2/tiny.txt', 'r') as f:\n",
    "        for line in f:\n",
    "            row = [float(item.strip()) for item in line.split(',')]\n",
    "            rows.append(row)\n",
    "\n",
    "    return rows\n",
    "\n",
    "def _selectionSort(col):\n",
    "    rows = getRows()\n",
    "\n",
    "    for i, row in enumerate(rows):\n",
    "        # get in index\n",
    "        values = [row[col] for row in rows[i:]]\n",
    "        min_value = min(values)\n",
    "        min_index = values.index(min_value) + i\n",
    "        # swap with first element\n",
    "        temp = rows[i]\n",
    "        rows[i] = rows[min_index]\n",
    "        rows[min_index] = temp\n",
    "    return rows\n",
    "\n",
    "def printRows(rows):\n",
    "    for row in rows:\n",
    "        print(f'{row[0]} Miles, £ {row[1]}')\n",
    "\n",
    "\n",
    "\n",
    "run = True\n",
    "prevSelection = 1\n",
    "while run:\n",
    "    choice = int(input(\n",
    "        'Enter choice (1): Print / (2): Sort on Distance / (3): Sort on price / (4):Quit : 1'))\n",
    "\n",
    "    match choice:\n",
    "        case 1:\n",
    "            match prevSelection:\n",
    "                case 1:\n",
    "                    printRows(getRows())\n",
    "                case 2:\n",
    "                    printRows(selectionSortDistance())\n",
    "                case 3:\n",
    "                    printRows(selectionSortPrice())\n",
    "        case 2:\n",
    "            printRows(selectionSortDistance())\n",
    "            prevSelection = 2\n",
    "        case 3:\n",
    "            printRows(selectionSortPrice())\n",
    "            prevSelection = 3\n",
    "        case 4:\n",
    "            print('quiting ...')\n",
    "            run = False\n",
    "    print()\n",
    "            \n"
   ]
  },
  {
   "cell_type": "code",
   "execution_count": 21,
   "metadata": {},
   "outputs": [
    {
     "data": {
      "text/plain": [
       "[1, 0, 1, 0]"
      ]
     },
     "execution_count": 21,
     "metadata": {},
     "output_type": "execute_result"
    }
   ],
   "source": [
    "def subsetOf(L, M):\n",
    "    k = []\n",
    "\n",
    "    for l in L:\n",
    "        if l in M:\n",
    "         k.append(1)\n",
    "        else:\n",
    "           k.append(0)\n",
    "\n",
    "    return k   \n",
    "\n",
    "subsetOf([1,12,6,78], [1, 23, 45, 6])"
   ]
  },
  {
   "cell_type": "code",
   "execution_count": 24,
   "metadata": {},
   "outputs": [
    {
     "data": {
      "text/plain": [
       "[1, 6]"
      ]
     },
     "execution_count": 24,
     "metadata": {},
     "output_type": "execute_result"
    }
   ],
   "source": [
    "def duplicate(listA, ListB):\n",
    "    intercection = []\n",
    "    for a in listA:\n",
    "        if a in ListB:\n",
    "            intercection.append(a)\n",
    "    return intercection\n",
    "  \n",
    "duplicate([1,12,6,78], [1, 23, 45, 6])\n",
    "            "
   ]
  },
  {
   "cell_type": "code",
   "execution_count": 26,
   "metadata": {},
   "outputs": [
    {
     "data": {
      "text/plain": [
       "78"
      ]
     },
     "execution_count": 26,
     "metadata": {},
     "output_type": "execute_result"
    }
   ],
   "source": [
    "def largestOfStack(stack: list):\n",
    "    largest = stack.pop()\n",
    "    while len(stack) > 0:\n",
    "        nextItem = stack.pop()\n",
    "        if largest < nextItem:\n",
    "            largest = nextItem\n",
    "    return largest\n",
    "\n",
    "\n",
    "largestOfStack([1, 12, 6, 78, 1, 23, 45, 6])\n"
   ]
  },
  {
   "cell_type": "code",
   "execution_count": 12,
   "metadata": {},
   "outputs": [
    {
     "name": "stdout",
     "output_type": "stream",
     "text": [
      "press enter twice to exit\n",
      "Product ID is : 3521\n",
      "Not Found\n"
     ]
    }
   ],
   "source": [
    "products = {}\n",
    "with open('week3/product.txt', 'r') as f:\n",
    "    for line in f:\n",
    "        productID, productName = [x.strip() for x in line.split(' ')]\n",
    "        products[productName] = productID\n",
    "print('press enter twice to exit')\n",
    "\n",
    "run = True\n",
    "while run:\n",
    "  inputProductName = input('Enter the Product Name: ')\n",
    "  if inputProductName == '': \n",
    "    run = False\n",
    "  elif inputProductName in products.keys():\n",
    "    print(f'Product ID is : {products[inputProductName]}')\n",
    "  else:\n",
    "     print('Not Found')\n"
   ]
  }
 ],
 "metadata": {
  "kernelspec": {
   "display_name": "Python 3",
   "language": "python",
   "name": "python3"
  },
  "language_info": {
   "codemirror_mode": {
    "name": "ipython",
    "version": 3
   },
   "file_extension": ".py",
   "mimetype": "text/x-python",
   "name": "python",
   "nbconvert_exporter": "python",
   "pygments_lexer": "ipython3",
   "version": "3.10.10"
  },
  "orig_nbformat": 4
 },
 "nbformat": 4,
 "nbformat_minor": 2
}
