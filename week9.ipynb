{
 "cells": [
  {
   "cell_type": "code",
   "execution_count": 6,
   "metadata": {},
   "outputs": [
    {
     "name": "stdout",
     "output_type": "stream",
     "text": [
      "incorrect\n",
      "incorrect\n",
      "incorrect\n",
      "incorrect\n"
     ]
    },
    {
     "data": {
      "text/plain": [
       "([17, 31, 41, 14, 18, 19], False)"
      ]
     },
     "execution_count": 6,
     "metadata": {},
     "output_type": "execute_result"
    }
   ],
   "source": [
    "class TreeNode:\n",
    "    def __init__(self, item=None):\n",
    "        self.item = item\n",
    "        self.left = None\n",
    "        self.right = None\n",
    "\n",
    "    def isLeaf(self):\n",
    "        return self.left == None and self.right == None\n",
    "\n",
    "\n",
    "class BinaryTree:\n",
    "    def __init__(self, root: TreeNode):\n",
    "        self.root = root\n",
    "\n",
    "    def traverse(self, node: TreeNode, isBigger=True):\n",
    "        res = []\n",
    "        if not node == None:\n",
    "            if not node.left == None:\n",
    "                if node.item < node.left.item:\n",
    "                    isBigger = False\n",
    "                    print('incorrect')\n",
    "            if not node.right == None:\n",
    "                if node.item < node.right.item:\n",
    "                    isBigger = False\n",
    "                    print('incorrect')\n",
    "            res.append(node.item)\n",
    "            res = res + self.traverse(node.left, isBigger)[0]\n",
    "            res = res + self.traverse(node.right, isBigger)[0]\n",
    "        return (res, isBigger)\n",
    "\n",
    "\n",
    "a = TreeNode(17)\n",
    "b = TreeNode(31)\n",
    "c = TreeNode(18)\n",
    "d = TreeNode(41)\n",
    "e = TreeNode(14)\n",
    "f = TreeNode(19)\n",
    "\n",
    "tree = BinaryTree(a)\n",
    "a.left = b\n",
    "a.right = c\n",
    "b.left = d\n",
    "d.right = e\n",
    "c.left = f\n",
    "\n",
    "tree.traverse(tree.root)\n"
   ]
  }
 ],
 "metadata": {
  "kernelspec": {
   "display_name": "Python 3",
   "language": "python",
   "name": "python3"
  },
  "language_info": {
   "codemirror_mode": {
    "name": "ipython",
    "version": 3
   },
   "file_extension": ".py",
   "mimetype": "text/x-python",
   "name": "python",
   "nbconvert_exporter": "python",
   "pygments_lexer": "ipython3",
   "version": "3.10.10"
  },
  "orig_nbformat": 4
 },
 "nbformat": 4,
 "nbformat_minor": 2
}
