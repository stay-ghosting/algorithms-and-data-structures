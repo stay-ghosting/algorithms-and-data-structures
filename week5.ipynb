{
 "cells": [
  {
   "cell_type": "code",
   "execution_count": 11,
   "metadata": {},
   "outputs": [
    {
     "data": {
      "text/plain": [
       "[1, [2, [3, [5, [4, [1, []]]]]]]"
      ]
     },
     "execution_count": 11,
     "metadata": {},
     "output_type": "execute_result"
    }
   ],
   "source": [
    "def rev_list(some_list: list):\n",
    "    new_list = []\n",
    "    for i in some_list:\n",
    "        new_list.insert(0, i)\n",
    "    return new_list\n",
    "\n",
    "rev_list([1,4,5,3,2,1])\n"
   ]
  },
  {
   "cell_type": "code",
   "execution_count": 24,
   "metadata": {},
   "outputs": [
    {
     "name": "stdout",
     "output_type": "stream",
     "text": [
      "[1, 4, 5, 3, 2, 1]\n"
     ]
    },
    {
     "data": {
      "text/plain": [
       "[1, 2, 3, 5, 4, 1]"
      ]
     },
     "execution_count": 24,
     "metadata": {},
     "output_type": "execute_result"
    }
   ],
   "source": [
    "def rev_list_stack(some_list: list):\n",
    "    stack = some_list[:]\n",
    "    print(stack)\n",
    "    rev_list = []\n",
    "    for _ in range(len(stack)):\n",
    "        rev_list += [stack.pop()]\n",
    "    return rev_list\n",
    "\n",
    "rev_list_stack([1,4,5,3,2,1])\n"
   ]
  },
  {
   "cell_type": "code",
   "execution_count": 29,
   "metadata": {},
   "outputs": [
    {
     "data": {
      "text/plain": [
       "[1, 2, 2, 5, 8, 9]"
      ]
     },
     "execution_count": 29,
     "metadata": {},
     "output_type": "execute_result"
    }
   ],
   "source": [
    "def minsort(original_list:list):\n",
    "    orderedList = []\n",
    "    for i in range(len(original_list)):\n",
    "        smallest_value = min(original_list)\n",
    "        original_list.remove(smallest_value)\n",
    "        orderedList.append(smallest_value)\n",
    "    return orderedList\n",
    "minsort([1,2,5,2,9,8])"
   ]
  },
  {
   "cell_type": "code",
   "execution_count": null,
   "metadata": {},
   "outputs": [],
   "source": [
    "def reverse_merge_sort(original_list):\n",
    "    "
   ]
  }
 ],
 "metadata": {
  "kernelspec": {
   "display_name": "Python 3",
   "language": "python",
   "name": "python3"
  },
  "language_info": {
   "codemirror_mode": {
    "name": "ipython",
    "version": 3
   },
   "file_extension": ".py",
   "mimetype": "text/x-python",
   "name": "python",
   "nbconvert_exporter": "python",
   "pygments_lexer": "ipython3",
   "version": "3.10.10"
  },
  "orig_nbformat": 4
 },
 "nbformat": 4,
 "nbformat_minor": 2
}
