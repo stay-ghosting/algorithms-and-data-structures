{
 "cells": [
  {
   "attachments": {},
   "cell_type": "markdown",
   "metadata": {},
   "source": [
    "## Done"
   ]
  },
  {
   "cell_type": "code",
   "execution_count": 11,
   "metadata": {},
   "outputs": [
    {
     "data": {
      "text/plain": [
       "[1, [2, [3, [5, [4, [1, []]]]]]]"
      ]
     },
     "execution_count": 11,
     "metadata": {},
     "output_type": "execute_result"
    }
   ],
   "source": [
    "def rev_list(some_list: list):\n",
    "    new_list = []\n",
    "    for i in some_list:\n",
    "        new_list.insert(0, i)\n",
    "    return new_list\n",
    "\n",
    "rev_list([1,4,5,3,2,1])\n"
   ]
  },
  {
   "cell_type": "code",
   "execution_count": 24,
   "metadata": {},
   "outputs": [
    {
     "name": "stdout",
     "output_type": "stream",
     "text": [
      "[1, 4, 5, 3, 2, 1]\n"
     ]
    },
    {
     "data": {
      "text/plain": [
       "[1, 2, 3, 5, 4, 1]"
      ]
     },
     "execution_count": 24,
     "metadata": {},
     "output_type": "execute_result"
    }
   ],
   "source": [
    "def rev_list_stack(some_list: list):\n",
    "    stack = some_list[:]\n",
    "    print(stack)\n",
    "    rev_list = []\n",
    "    for _ in range(len(stack)):\n",
    "        rev_list += [stack.pop()]\n",
    "    return rev_list\n",
    "\n",
    "rev_list_stack([1,4,5,3,2,1])\n"
   ]
  },
  {
   "cell_type": "code",
   "execution_count": 29,
   "metadata": {},
   "outputs": [
    {
     "data": {
      "text/plain": [
       "[1, 2, 2, 5, 8, 9]"
      ]
     },
     "execution_count": 29,
     "metadata": {},
     "output_type": "execute_result"
    }
   ],
   "source": [
    "def minsort(original_list:list):\n",
    "    orderedList = []\n",
    "    for i in range(len(original_list)):\n",
    "        smallest_value = min(original_list)\n",
    "        original_list.remove(smallest_value)\n",
    "        orderedList.append(smallest_value)\n",
    "    return orderedList\n",
    "minsort([1,2,5,2,9,8])"
   ]
  },
  {
   "cell_type": "code",
   "execution_count": 32,
   "metadata": {},
   "outputs": [
    {
     "name": "stdout",
     "output_type": "stream",
     "text": [
      "[[9, 5], [3, 2], [8, 1], [6, 4], [11, 10], [13, 12]]\n",
      "[[9, 5, 3, 2], [8, 6, 4, 1], [13, 12, 11, 10]]\n",
      "[[9, 8, 6, 5, 4, 3, 2, 1], [13, 12, 11, 10]]\n",
      "[[13, 12, 11, 10, 9, 8, 6, 5, 4, 3, 2, 1]]\n"
     ]
    },
    {
     "data": {
      "text/plain": [
       "[13, 12, 11, 10, 9, 8, 6, 5, 4, 3, 2, 1]"
      ]
     },
     "execution_count": 32,
     "metadata": {},
     "output_type": "execute_result"
    }
   ],
   "source": [
    "def mergeLists(listA: list, listB: list) -> list: \n",
    "    sortedList = []\n",
    "    indexA = 0\n",
    "    indexB = 0\n",
    "    # while not at the end of both lists\n",
    "    while indexA < len(listA) and indexB < len(listB):\n",
    "        # if a is more than b\n",
    "        if listA[indexA] > listB[indexB]:\n",
    "            sortedList.append(listA[indexA])\n",
    "            indexA += 1\n",
    "        # if b is more than a\n",
    "        elif listB[indexB] > listA[indexA]:\n",
    "            sortedList.append(listB[indexB])\n",
    "            indexB += 1\n",
    "    # if at end of list a \n",
    "    if indexA == len(listA):\n",
    "        sortedList += listB[indexB:]\n",
    "    # if at end of list b \n",
    "    elif indexB == len(listB):\n",
    "        sortedList += listA[indexA:]\n",
    "\n",
    "    return sortedList\n",
    "\n",
    "# recursive merger\n",
    "def mergeAllLists(mergeList):\n",
    "    if len(mergeList) == 1:\n",
    "        return mergeList[0]\n",
    "    # holds all merged pairs\n",
    "    merged = []\n",
    "    numberOfPairs = round(len(mergeList) / 2)\n",
    "    for i in range(numberOfPairs):\n",
    "        pairA = mergeList[i*2]\n",
    "        try:\n",
    "          pairB = mergeList[i*2 + 1]\n",
    "          # add merged pair to list\n",
    "          merged.append(mergeLists(pairA, pairB))\n",
    "        # if a has no pair ...\n",
    "        except IndexError as e:\n",
    "            # add to the end of the merged list\n",
    "            merged.append(pairA)\n",
    "          \n",
    "    print(merged)\n",
    "    return mergeAllLists(merged)\n",
    "\n",
    "\n",
    "def mergeSort(alist):\n",
    "    mergeList = [[x] for x in alist]\n",
    "    merged = mergeAllLists(mergeList)\n",
    "    return merged\n",
    "    \n",
    "mergeSort([5,9,3,2,8,1,4,6,10,11,12,13])\n",
    "    "
   ]
  }
 ],
 "metadata": {
  "kernelspec": {
   "display_name": "Python 3",
   "language": "python",
   "name": "python3"
  },
  "language_info": {
   "codemirror_mode": {
    "name": "ipython",
    "version": 3
   },
   "file_extension": ".py",
   "mimetype": "text/x-python",
   "name": "python",
   "nbconvert_exporter": "python",
   "pygments_lexer": "ipython3",
   "version": "3.10.10"
  },
  "orig_nbformat": 4
 },
 "nbformat": 4,
 "nbformat_minor": 2
}
