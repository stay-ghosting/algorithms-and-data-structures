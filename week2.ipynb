{
 "cells": [
  {
   "cell_type": "code",
   "execution_count": 5,
   "metadata": {},
   "outputs": [
    {
     "name": "stdout",
     "output_type": "stream",
     "text": [
      "120 Miles, £ 150.12\n",
      "140 Miles, £ 180.1\n",
      "70 Miles, £ 250.02\n",
      "99 Miles, £ 398.72\n",
      "144 Miles, £ 205.42\n"
     ]
    }
   ],
   "source": [
    "name = input('file name: ')\n",
    "with open(name, 'r') as f:\n",
    "    for line in f:\n",
    "        row = [item.strip() for item in line.split(',')]\n",
    "        print(f'{row[0]} Miles, £ {row[1]}')"
   ]
  },
  {
   "cell_type": "code",
   "execution_count": 45,
   "metadata": {},
   "outputs": [
    {
     "name": "stdout",
     "output_type": "stream",
     "text": [
      "70.0 Miles, £ 250.02\n",
      "99.0 Miles, £ 398.72\n",
      "140.0 Miles, £ 180.1\n",
      "120.0 Miles, £ 150.12\n",
      "144.0 Miles, £ 205.42\n"
     ]
    }
   ],
   "source": [
    "def selectionSortDistance():\n",
    "    rows = []\n",
    "    with open('week2/tiny.txt', 'r') as f:\n",
    "        for line in f:\n",
    "            row = [float(item.strip()) for item in line.split(',')]\n",
    "            rows.append(row)\n",
    "\n",
    "    for i in range(len(rows) - 1):\n",
    "        smallestRowIndex = 0\n",
    "        smallestDistanceRow = rows[0]\n",
    "        for index, row in enumerate(rows[i:]):\n",
    "            if row[0] < smallestDistanceRow[0]:\n",
    "                smallestDistanceRow = row\n",
    "                smallestRowIndex = index + i\n",
    "        del rows[smallestRowIndex]\n",
    "        rows.insert(i, smallestDistanceRow)\n",
    "\n",
    "    for row in rows:\n",
    "        print(f'{row[0]} Miles, £ {row[1]}')\n",
    "\n",
    "\n",
    "selectionSortDistance()"
   ]
  },
  {
   "cell_type": "code",
   "execution_count": 69,
   "metadata": {},
   "outputs": [
    {
     "ename": "SyntaxError",
     "evalue": "'[' was never closed (1970149257.py, line 10)",
     "output_type": "error",
     "traceback": [
      "\u001b[1;36m  Cell \u001b[1;32mIn[69], line 10\u001b[1;36m\u001b[0m\n\u001b[1;33m    smallestPriceRow = rows[0\u001b[0m\n\u001b[1;37m                           ^\u001b[0m\n\u001b[1;31mSyntaxError\u001b[0m\u001b[1;31m:\u001b[0m '[' was never closed\n"
     ]
    }
   ],
   "source": [
    "def selectionSortPrice():\n",
    "    rows = []\n",
    "    with open('week2/tiny.txt', 'r') as f:\n",
    "        for line in f:\n",
    "            row = [float(item.strip()) for item in line.split(',')]\n",
    "            rows.append(row)\n",
    "\n",
    "    for i in range(len(rows) - 1):\n",
    "        smallestRowIndex = 0\n",
    "        smallestPriceRow = rows[0]\n",
    "        for index, row in enumerate(rows[i:]):\n",
    "            if row[1] < smallestPriceRow[1]:\n",
    "                smallestPriceRow = row\n",
    "                smallestRowIndex = index + i\n",
    "        del rows[smallestRowIndex]\n",
    "        rows.insert(i, smallestPriceRow)\n",
    "\n",
    "    for row in rows:\n",
    "        print(f'{row[0]} Miles, £ {row[1]}')\n",
    "\n",
    "\n",
    "selectionSortDistance()"
   ]
  }
 ],
 "metadata": {
  "kernelspec": {
   "display_name": "Python 3",
   "language": "python",
   "name": "python3"
  },
  "language_info": {
   "codemirror_mode": {
    "name": "ipython",
    "version": 3
   },
   "file_extension": ".py",
   "mimetype": "text/x-python",
   "name": "python",
   "nbconvert_exporter": "python",
   "pygments_lexer": "ipython3",
   "version": "3.10.10"
  },
  "orig_nbformat": 4
 },
 "nbformat": 4,
 "nbformat_minor": 2
}
