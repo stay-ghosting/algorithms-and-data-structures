{
 "cells": [
  {
   "attachments": {},
   "cell_type": "markdown",
   "metadata": {},
   "source": [
    "## Done"
   ]
  },
  {
   "cell_type": "code",
   "execution_count": 5,
   "metadata": {},
   "outputs": [
    {
     "name": "stdout",
     "output_type": "stream",
     "text": [
      "120 Miles, £ 150.12\n",
      "140 Miles, £ 180.1\n",
      "70 Miles, £ 250.02\n",
      "99 Miles, £ 398.72\n",
      "144 Miles, £ 205.42\n"
     ]
    }
   ],
   "source": [
    "name = input('file name: ')\n",
    "with open(name, 'r') as f:\n",
    "    for line in f:\n",
    "        row = [item.strip() for item in line.split(',')]\n",
    "        print(f'{row[0]} Miles, £ {row[1]}')"
   ]
  },
  {
   "cell_type": "code",
   "execution_count": 45,
   "metadata": {},
   "outputs": [
    {
     "name": "stdout",
     "output_type": "stream",
     "text": [
      "70.0 Miles, £ 250.02\n",
      "99.0 Miles, £ 398.72\n",
      "140.0 Miles, £ 180.1\n",
      "120.0 Miles, £ 150.12\n",
      "144.0 Miles, £ 205.42\n"
     ]
    }
   ],
   "source": [
    "def selectionSortDistance():\n",
    "    rows = []\n",
    "    with open('week2/tiny.txt', 'r') as f:\n",
    "        for line in f:\n",
    "            row = [float(item.strip()) for item in line.split(',')]\n",
    "            rows.append(row)\n",
    "\n",
    "    for i in range(len(rows) - 1):\n",
    "        smallestRowIndex = 0\n",
    "        smallestDistanceRow = rows[0]\n",
    "        for index, row in enumerate(rows[i:]):\n",
    "            if row[0] < smallestDistanceRow[0]:\n",
    "                smallestDistanceRow = row\n",
    "                smallestRowIndex = index + i\n",
    "        del rows[smallestRowIndex]\n",
    "        rows.insert(i, smallestDistanceRow)\n",
    "\n",
    "    for row in rows:\n",
    "        print(f'{row[0]} Miles, £ {row[1]}')\n",
    "\n",
    "\n",
    "selectionSortDistance()"
   ]
  },
  {
   "cell_type": "code",
   "execution_count": 30,
   "metadata": {},
   "outputs": [
    {
     "name": "stdout",
     "output_type": "stream",
     "text": [
      "120.0 Miles, £ 150.12\n",
      "140.0 Miles, £ 180.1\n",
      "144.0 Miles, £ 205.42\n",
      "70.0 Miles, £ 250.02\n",
      "99.0 Miles, £ 398.72\n"
     ]
    }
   ],
   "source": [
    "def selectionSortPrice():\n",
    "    rows = []\n",
    "    with open('week2/tiny.txt', 'r') as f:\n",
    "        for line in f:\n",
    "            row = [float(item.strip()) for item in line.split(',')]\n",
    "            rows.append(row)\n",
    "\n",
    "    for i, row in enumerate(rows):\n",
    "        # get in index\n",
    "        prices = [row[1] for row in rows[i:]]\n",
    "        min_value = min(prices)\n",
    "        min_index = prices.index(min_value) + i\n",
    "        # swap with first element\n",
    "        temp = rows[i]\n",
    "        rows[i] = rows[min_index]\n",
    "        rows[min_index] = temp\n",
    "\n",
    "    for row in rows:\n",
    "        print(f'{row[0]} Miles, £ {row[1]}')\n",
    "\n",
    "\n",
    "selectionSortPrice()\n"
   ]
  }
 ],
 "metadata": {
  "kernelspec": {
   "display_name": "Python 3",
   "language": "python",
   "name": "python3"
  },
  "language_info": {
   "codemirror_mode": {
    "name": "ipython",
    "version": 3
   },
   "file_extension": ".py",
   "mimetype": "text/x-python",
   "name": "python",
   "nbconvert_exporter": "python",
   "pygments_lexer": "ipython3",
   "version": "3.10.10"
  },
  "orig_nbformat": 4
 },
 "nbformat": 4,
 "nbformat_minor": 2
}
