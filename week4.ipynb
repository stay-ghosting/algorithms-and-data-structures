{
 "cells": [
  {
   "cell_type": "code",
   "execution_count": 25,
   "metadata": {},
   "outputs": [
    {
     "data": {
      "text/plain": [
       "[120, 24, 6, 2, 1]"
      ]
     },
     "execution_count": 25,
     "metadata": {},
     "output_type": "execute_result"
    }
   ],
   "source": [
    "def rec(n):\n",
    "    res = []\n",
    "    if n == 1:\n",
    "        return 1\n",
    "    \n",
    "    return n * rec(n - 1)\n",
    "\n",
    "def recList(n):\n",
    "    if n == 1:\n",
    "        return [1]\n",
    "    else:\n",
    "        return [rec(n)] + recList(n - 1)\n",
    "\n",
    "recList(5)"
   ]
  },
  {
   "cell_type": "code",
   "execution_count": 35,
   "metadata": {},
   "outputs": [
    {
     "name": "stdout",
     "output_type": "stream",
     "text": [
      "10\n"
     ]
    }
   ],
   "source": [
    "def recSum(aList: list):\n",
    "    if len(aList) == 1:\n",
    "        return aList[0]\n",
    "    else:\n",
    "        last = aList.pop() \n",
    "        aList[-1] += last\n",
    "        return recSum(aList)\n",
    "\n",
    "print(recSum([1,2,3,4]))"
   ]
  },
  {
   "cell_type": "code",
   "execution_count": 45,
   "metadata": {},
   "outputs": [
    {
     "name": "stdout",
     "output_type": "stream",
     "text": [
      "1\n",
      "2\n",
      "3\n",
      "4\n",
      "5\n",
      "\n",
      "1\n",
      "4\n",
      "9\n",
      "16\n",
      "25\n",
      "\n"
     ]
    },
    {
     "data": {
      "text/plain": [
       "55"
      ]
     },
     "execution_count": 45,
     "metadata": {},
     "output_type": "execute_result"
    }
   ],
   "source": [
    "def printToN(n):\n",
    "    if n != 1:\n",
    "        printToN(n-1)\n",
    "    print(n)\n",
    "\n",
    "def printSquares(n):\n",
    "    if n != 1:\n",
    "        printSquares(n-1)\n",
    "    print(n**2)\n",
    "\n",
    "def sumOfSquares(n):\n",
    "    if n == 1:\n",
    "        return 1\n",
    "    else:\n",
    "        return n**2 + sumOfSquares(n-1)\n",
    "\n",
    "printToN(5)\n",
    "print()\n",
    "printSquares(5)\n",
    "print()\n",
    "sumOfSquares(5)\n"
   ]
  },
  {
   "cell_type": "code",
   "execution_count": 48,
   "metadata": {},
   "outputs": [
    {
     "data": {
      "text/plain": [
       "2"
      ]
     },
     "execution_count": 48,
     "metadata": {},
     "output_type": "execute_result"
    }
   ],
   "source": [
    "def recSmallest(aList:list):\n",
    "    if len(aList) == 1:\n",
    "        return aList[0]\n",
    "    else:\n",
    "        if aList[-1] > aList[-2]:\n",
    "            del aList[-1]\n",
    "        else:\n",
    "            del aList[-2]\n",
    "        return recSmallest(aList)\n",
    "    \n",
    "recSmallest([3,2,6,4,8])"
   ]
  },
  {
   "cell_type": "code",
   "execution_count": 18,
   "metadata": {},
   "outputs": [
    {
     "data": {
      "text/plain": [
       "[1, 2, 4, 7, 11, 16, 22, 29]"
      ]
     },
     "execution_count": 18,
     "metadata": {},
     "output_type": "execute_result"
    }
   ],
   "source": [
    "def incChange(n):\n",
    "    if n == 1:\n",
    "        return 1\n",
    "    if n == 2:\n",
    "        return 2\n",
    "    else:\n",
    "        return incChange(n-1) + (incChange(n-1) - incChange(n-2)) + 1\n",
    "\n",
    "def incList(n):\n",
    "    if n == 1:\n",
    "        return [incChange(1)]\n",
    "    else:\n",
    "        return incList(n-1) + [incChange(n)]\n",
    "    \n",
    "incList(8)\n"
   ]
  }
 ],
 "metadata": {
  "kernelspec": {
   "display_name": "Python 3",
   "language": "python",
   "name": "python3"
  },
  "language_info": {
   "codemirror_mode": {
    "name": "ipython",
    "version": 3
   },
   "file_extension": ".py",
   "mimetype": "text/x-python",
   "name": "python",
   "nbconvert_exporter": "python",
   "pygments_lexer": "ipython3",
   "version": "3.10.10"
  },
  "orig_nbformat": 4
 },
 "nbformat": 4,
 "nbformat_minor": 2
}
