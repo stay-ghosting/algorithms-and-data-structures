{
 "cells": [
  {
   "attachments": {},
   "cell_type": "markdown",
   "metadata": {},
   "source": [
    "## Done"
   ]
  },
  {
   "cell_type": "code",
   "execution_count": 3,
   "metadata": {},
   "outputs": [
    {
     "data": {
      "text/plain": [
       "({'h': 1, 'e': 1, 'l': 3, 'o': 2, ' ': 1, 'w': 1, 'r': 1, 'd': 1}, 11)"
      ]
     },
     "execution_count": 3,
     "metadata": {},
     "output_type": "execute_result"
    }
   ],
   "source": [
    "def letter_counter(word):\n",
    "    freq = dict()\n",
    "    for letter in word:\n",
    "        if letter in freq:\n",
    "            freq[letter] += 1\n",
    "        else:\n",
    "            freq[letter] = 1\n",
    "    return (freq, len(word))\n",
    "\n",
    "letter_counter('hello world')\n"
   ]
  },
  {
   "cell_type": "code",
   "execution_count": 7,
   "metadata": {},
   "outputs": [
    {
     "data": {
      "text/plain": [
       "8976"
      ]
     },
     "execution_count": 7,
     "metadata": {},
     "output_type": "execute_result"
    }
   ],
   "source": [
    "from functools import reduce\n",
    "\n",
    "def getProduct(text: str):\n",
    "    numbers = [int(number) for number in text.split('*')]\n",
    "    product = reduce(lambda a, b: a * b, numbers)\n",
    "    return product\n",
    "\n",
    "getProduct('12*34*22')\n"
   ]
  },
  {
   "cell_type": "code",
   "execution_count": 8,
   "metadata": {},
   "outputs": [
    {
     "name": "stdout",
     "output_type": "stream",
     "text": [
      " The Student:ree ID Number:12 Mark:99 Age:19\n"
     ]
    }
   ],
   "source": [
    "class Student:\n",
    "    def __init__(self, id: int, name: str, mark: int, age: int):\n",
    "        self.id = id\n",
    "        self.name = name\n",
    "        self.mark = mark\n",
    "        self.age = age\n",
    "\n",
    "    def display(self):\n",
    "        print(f' The Student:{self.name} ID Number:{self.id} Mark:{self.mark} Age:{self.age}')\n",
    "\n",
    "    def setAge(self, newAge):\n",
    "        self.age = newAge\n",
    "\n",
    "    def setMark(self, newMark):\n",
    "        self.mark = newMark\n",
    "\n",
    "tom = Student(12, 'ree', 92, 18)\n",
    "\n",
    "tom.setAge(19)\n",
    "tom.setMark(99)\n",
    "tom.display()\n",
    "        "
   ]
  }
 ],
 "metadata": {
  "kernelspec": {
   "display_name": "Python 3",
   "language": "python",
   "name": "python3"
  },
  "language_info": {
   "codemirror_mode": {
    "name": "ipython",
    "version": 3
   },
   "file_extension": ".py",
   "mimetype": "text/x-python",
   "name": "python",
   "nbconvert_exporter": "python",
   "pygments_lexer": "ipython3",
   "version": "3.10.10"
  },
  "orig_nbformat": 4
 },
 "nbformat": 4,
 "nbformat_minor": 2
}
